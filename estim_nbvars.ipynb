{
 "cells": [
  {
   "cell_type": "code",
   "execution_count": 19,
   "metadata": {},
   "outputs": [],
   "source": [
    "# Mini instance\n",
    "infos_mini = {\"NB_ARR\": 3,\n",
    "              \"NB_DEP\": 3,\n",
    "              \"INDISP_MACHINES\": {\"DEB\":0, \"FOR\":2, \"DEG\":0},\n",
    "              \"INDISP_CHANTIERS\": {\"WPY_REC\":0, \"WPY_FOR\":0, \"WPY_DEP\":0},\n",
    "              \"NB_VOIES\": {\"WPY_REC\":3, \"WPY_FOR\":3, \"WPY_DEP\":3}}\n",
    "\n",
    "# Instance WPY_simple\n",
    "infos_simple = {\"NB_ARR\": 18,\n",
    "                \"NB_DEP\": 18,\n",
    "                \"INDISP_MACHINES\": {\"DEB\":3, \"FOR\":3, \"DEG\":3},\n",
    "                \"INDISP_CHANTIERS\": {\"WPY_REC\":0, \"WPY_FOR\":3, \"WPY_DEP\":0},\n",
    "                \"NB_VOIES\": {\"WPY_REC\":14, \"WPY_FOR\":40, \"WPY_DEP\":15}}\n",
    "\n",
    "# Instance WPY_realiste\n",
    "infos_realiste = {\"NB_ARR\": 111,\n",
    "                  \"NB_DEP\": 106,\n",
    "                  \"INDISP_MACHINES\": {\"DEB\":3, \"FOR\":3, \"DEG\":3},\n",
    "                  \"INDISP_CHANTIERS\": {\"WPY_REC\":0, \"WPY_FOR\":3, \"WPY_DEP\":0},\n",
    "                  \"NB_VOIES\": {\"WPY_REC\":14, \"WPY_FOR\":40, \"WPY_DEP\":15}}"
   ]
  },
  {
   "cell_type": "code",
   "execution_count": 20,
   "metadata": {},
   "outputs": [],
   "source": [
    "def nb_vars_jalon1(instance_infos):\n",
    "    nb_arr = instance_infos[\"NB_ARR\"]\n",
    "    nb_dep = instance_infos[\"NB_DEP\"]\n",
    "    dict_indisp_machines = instance_infos[\"INDISP_MACHINES\"]\n",
    "    dict_indisp_chantiers = instance_infos[\"INDISP_CHANTIERS\"]\n",
    "    dico = {\"Binaries\" : 0, \"Integer\": 0, \"Total\": 0}\n",
    "    dico[\"Integer\"]  = (nb_arr**2 + nb_dep**2\n",
    "                       + nb_arr * (1 + dict_indisp_machines[\"DEB\"] + dict_indisp_chantiers[\"WPY_REC\"])\n",
    "                       + nb_dep * (2 +dict_indisp_machines[\"FOR\"] + dict_indisp_machines[\"DEG\"] + 2 * dict_indisp_chantiers[\"WPY_FOR\"]))\n",
    "    dico[\"Binaries\"] = (nb_arr**2 + nb_dep**2\n",
    "                       + nb_arr * (dict_indisp_machines[\"DEB\"] + dict_indisp_chantiers[\"WPY_REC\"] - 1)\n",
    "                       + nb_dep * (dict_indisp_machines[\"FOR\"] + dict_indisp_machines[\"DEG\"] + 2 * dict_indisp_chantiers[\"WPY_FOR\"] - 2))\n",
    "    dico[\"Total\"] = dico[\"Integer\"] + dico[\"Binaries\"]\n",
    "    return dico\n"
   ]
  },
  {
   "cell_type": "code",
   "execution_count": 21,
   "metadata": {},
   "outputs": [],
   "source": [
    "def nb_vars_jalon2(instance_infos):\n",
    "    nb_arr = instance_infos[\"NB_ARR\"]\n",
    "    nb_dep = instance_infos[\"NB_DEP\"]\n",
    "    nb_voies = instance_infos[\"NB_VOIES\"]\n",
    "    dico = nb_vars_jalon1(instance_infos)\n",
    "    dico[\"Integer\"]  += (nb_dep + 2 * nb_arr * (nb_arr - 1) * nb_voies[\"WPY_REC\"]\n",
    "                         + 2 * nb_dep * (nb_dep - 1) * (nb_voies[\"WPY_FOR\"] + nb_voies[\"WPY_DEP\"]))\n",
    "    dico[\"Binaries\"] += (nb_arr * nb_voies[\"WPY_REC\"] + nb_dep * (nb_voies[\"WPY_FOR\"] + nb_voies[\"WPY_DEP\"])\n",
    "                         + 2 * nb_arr * (nb_arr - 1) * nb_voies[\"WPY_REC\"]\n",
    "                         + 2 * nb_dep * (nb_dep - 1) * (nb_voies[\"WPY_FOR\"] + nb_voies[\"WPY_DEP\"]))\n",
    "    dico[\"Total\"] = dico[\"Integer\"] + dico[\"Binaries\"]\n",
    "    return dico\n"
   ]
  },
  {
   "cell_type": "code",
   "execution_count": 22,
   "metadata": {},
   "outputs": [
    {
     "data": {
      "text/plain": [
       "{'Binaries': 150, 'Integer': 144, 'Total': 294}"
      ]
     },
     "execution_count": 22,
     "metadata": {},
     "output_type": "execute_result"
    }
   ],
   "source": [
    "nb_vars_jalon1(infos_mini)\n",
    "nb_vars_jalon2(infos_mini)"
   ]
  },
  {
   "cell_type": "code",
   "execution_count": 23,
   "metadata": {},
   "outputs": [
    {
     "data": {
      "text/plain": [
       "{'Binaries': 44334, 'Integer': 43218, 'Total': 87552}"
      ]
     },
     "execution_count": 23,
     "metadata": {},
     "output_type": "execute_result"
    }
   ],
   "source": [
    "nb_vars_jalon1(infos_simple)\n",
    "nb_vars_jalon2(infos_simple)"
   ]
  },
  {
   "cell_type": "code",
   "execution_count": 24,
   "metadata": {},
   "outputs": [
    {
     "data": {
      "text/plain": [
       "{'Binaries': 1598403, 'Integer': 1591771, 'Total': 3190174}"
      ]
     },
     "execution_count": 24,
     "metadata": {},
     "output_type": "execute_result"
    }
   ],
   "source": [
    "nb_vars_jalon1(infos_realiste)\n",
    "nb_vars_jalon2(infos_realiste)"
   ]
  }
 ],
 "metadata": {
  "kernelspec": {
   "display_name": "Python 3",
   "language": "python",
   "name": "python3"
  },
  "language_info": {
   "codemirror_mode": {
    "name": "ipython",
    "version": 3
   },
   "file_extension": ".py",
   "mimetype": "text/x-python",
   "name": "python",
   "nbconvert_exporter": "python",
   "pygments_lexer": "ipython3",
   "version": "3.10.4"
  }
 },
 "nbformat": 4,
 "nbformat_minor": 2
}
